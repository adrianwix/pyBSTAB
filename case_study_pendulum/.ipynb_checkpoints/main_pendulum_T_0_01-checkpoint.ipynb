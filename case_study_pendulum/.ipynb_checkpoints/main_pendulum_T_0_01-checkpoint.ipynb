{
 "cells": [
  {
   "cell_type": "code",
   "execution_count": 16,
   "metadata": {},
   "outputs": [
    {
     "name": "stdout",
     "output_type": "stream",
     "text": [
      "/Users/adrian/Documents/code/bSTAB/thesis/case_study_pendulum\n",
      "/Users/adrian/.local/share/virtualenvs/thesis-8NJDacTB/bin/python\n",
      "Obtaining file:///Users/adrian/Documents/code/bSTAB/thesis/pybasin\n",
      "  Installing build dependencies ... \u001b[?25ldone\n",
      "\u001b[?25h  Checking if build backend supports build_editable ... \u001b[?25ldone\n",
      "\u001b[?25h  Getting requirements to build editable ... \u001b[?25ldone\n",
      "\u001b[?25h  Preparing editable metadata (pyproject.toml) ... \u001b[?25ldone\n",
      "\u001b[?25hRequirement already satisfied: numpy in /Users/adrian/.local/share/virtualenvs/thesis-8NJDacTB/lib/python3.12/site-packages (from pybasin==0.1) (2.2.4)\n",
      "Requirement already satisfied: matplotlib in /Users/adrian/.local/share/virtualenvs/thesis-8NJDacTB/lib/python3.12/site-packages (from pybasin==0.1) (3.10.1)\n",
      "Requirement already satisfied: scikit-learn in /Users/adrian/.local/share/virtualenvs/thesis-8NJDacTB/lib/python3.12/site-packages (from pybasin==0.1) (1.6.1)\n",
      "Requirement already satisfied: torch in /Users/adrian/.local/share/virtualenvs/thesis-8NJDacTB/lib/python3.12/site-packages (from pybasin==0.1) (2.6.0)\n",
      "Requirement already satisfied: torchdiffeq in /Users/adrian/.local/share/virtualenvs/thesis-8NJDacTB/lib/python3.12/site-packages (from pybasin==0.1) (0.2.5)\n",
      "Requirement already satisfied: contourpy>=1.0.1 in /Users/adrian/.local/share/virtualenvs/thesis-8NJDacTB/lib/python3.12/site-packages (from matplotlib->pybasin==0.1) (1.3.1)\n",
      "Requirement already satisfied: cycler>=0.10 in /Users/adrian/.local/share/virtualenvs/thesis-8NJDacTB/lib/python3.12/site-packages (from matplotlib->pybasin==0.1) (0.12.1)\n",
      "Requirement already satisfied: fonttools>=4.22.0 in /Users/adrian/.local/share/virtualenvs/thesis-8NJDacTB/lib/python3.12/site-packages (from matplotlib->pybasin==0.1) (4.56.0)\n",
      "Requirement already satisfied: kiwisolver>=1.3.1 in /Users/adrian/.local/share/virtualenvs/thesis-8NJDacTB/lib/python3.12/site-packages (from matplotlib->pybasin==0.1) (1.4.8)\n",
      "Requirement already satisfied: packaging>=20.0 in /Users/adrian/.local/share/virtualenvs/thesis-8NJDacTB/lib/python3.12/site-packages (from matplotlib->pybasin==0.1) (24.2)\n",
      "Requirement already satisfied: pillow>=8 in /Users/adrian/.local/share/virtualenvs/thesis-8NJDacTB/lib/python3.12/site-packages (from matplotlib->pybasin==0.1) (11.1.0)\n",
      "Requirement already satisfied: pyparsing>=2.3.1 in /Users/adrian/.local/share/virtualenvs/thesis-8NJDacTB/lib/python3.12/site-packages (from matplotlib->pybasin==0.1) (3.2.1)\n",
      "Requirement already satisfied: python-dateutil>=2.7 in /Users/adrian/.local/share/virtualenvs/thesis-8NJDacTB/lib/python3.12/site-packages (from matplotlib->pybasin==0.1) (2.9.0.post0)\n",
      "Requirement already satisfied: scipy>=1.6.0 in /Users/adrian/.local/share/virtualenvs/thesis-8NJDacTB/lib/python3.12/site-packages (from scikit-learn->pybasin==0.1) (1.15.2)\n",
      "Requirement already satisfied: joblib>=1.2.0 in /Users/adrian/.local/share/virtualenvs/thesis-8NJDacTB/lib/python3.12/site-packages (from scikit-learn->pybasin==0.1) (1.4.2)\n",
      "Requirement already satisfied: threadpoolctl>=3.1.0 in /Users/adrian/.local/share/virtualenvs/thesis-8NJDacTB/lib/python3.12/site-packages (from scikit-learn->pybasin==0.1) (3.6.0)\n",
      "Requirement already satisfied: filelock in /Users/adrian/.local/share/virtualenvs/thesis-8NJDacTB/lib/python3.12/site-packages (from torch->pybasin==0.1) (3.18.0)\n",
      "Requirement already satisfied: typing-extensions>=4.10.0 in /Users/adrian/.local/share/virtualenvs/thesis-8NJDacTB/lib/python3.12/site-packages (from torch->pybasin==0.1) (4.12.2)\n",
      "Requirement already satisfied: networkx in /Users/adrian/.local/share/virtualenvs/thesis-8NJDacTB/lib/python3.12/site-packages (from torch->pybasin==0.1) (3.4.2)\n",
      "Requirement already satisfied: jinja2 in /Users/adrian/.local/share/virtualenvs/thesis-8NJDacTB/lib/python3.12/site-packages (from torch->pybasin==0.1) (3.1.6)\n",
      "Requirement already satisfied: fsspec in /Users/adrian/.local/share/virtualenvs/thesis-8NJDacTB/lib/python3.12/site-packages (from torch->pybasin==0.1) (2025.3.0)\n",
      "Requirement already satisfied: setuptools in /Users/adrian/.local/share/virtualenvs/thesis-8NJDacTB/lib/python3.12/site-packages (from torch->pybasin==0.1) (77.0.1)\n",
      "Requirement already satisfied: sympy==1.13.1 in /Users/adrian/.local/share/virtualenvs/thesis-8NJDacTB/lib/python3.12/site-packages (from torch->pybasin==0.1) (1.13.1)\n",
      "Requirement already satisfied: mpmath<1.4,>=1.1.0 in /Users/adrian/.local/share/virtualenvs/thesis-8NJDacTB/lib/python3.12/site-packages (from sympy==1.13.1->torch->pybasin==0.1) (1.3.0)\n",
      "Requirement already satisfied: six>=1.5 in /Users/adrian/.local/share/virtualenvs/thesis-8NJDacTB/lib/python3.12/site-packages (from python-dateutil>=2.7->matplotlib->pybasin==0.1) (1.17.0)\n",
      "Requirement already satisfied: MarkupSafe>=2.0 in /Users/adrian/.local/share/virtualenvs/thesis-8NJDacTB/lib/python3.12/site-packages (from jinja2->torch->pybasin==0.1) (3.0.2)\n",
      "Building wheels for collected packages: pybasin\n",
      "  Building editable for pybasin (pyproject.toml) ... \u001b[?25ldone\n",
      "\u001b[?25h  Created wheel for pybasin: filename=pybasin-0.1-0.editable-py3-none-any.whl size=2647 sha256=1ea7fb538dbaf21d9ad2ea8e48f186514ca8b92db7924bed14568e551538a765\n",
      "  Stored in directory: /private/var/folders/44/6pdbp4v50bsf6k2smqvh_p7h0000gn/T/pip-ephem-wheel-cache-u1ylj1lq/wheels/e9/16/90/f3f41966356bde5802831aa669bca514c3b3e2b19e94ce0f59\n",
      "Successfully built pybasin\n",
      "Installing collected packages: pybasin\n",
      "  Attempting uninstall: pybasin\n",
      "    Found existing installation: pybasin 0.1\n",
      "    Uninstalling pybasin-0.1:\n",
      "      Successfully uninstalled pybasin-0.1\n",
      "Successfully installed pybasin-0.1\n",
      "Note: you may need to restart the kernel to use updated packages.\n"
     ]
    }
   ],
   "source": [
    "import os, sys\n",
    "print(os.getcwd())\n",
    "# Add the current directory to sys.path\n",
    "sys.path.append(os.getcwd() + '/case_study_pendulum')\n",
    "print(sys.executable)\n",
    "\n",
    "%pip install -e /Users/adrian/Documents/code/bSTAB/thesis/pybasin"
   ]
  },
  {
   "cell_type": "code",
   "execution_count": null,
   "metadata": {},
   "outputs": [
    {
     "name": "stdout",
     "output_type": "stream",
     "text": [
      "pybasin                   0.1            /Users/adrian/Documents/code/bSTAB/thesis/pybasin\n"
     ]
    },
    {
     "ename": "ModuleNotFoundError",
     "evalue": "No module named 'pyBasin'",
     "output_type": "error",
     "traceback": [
      "\u001b[31m---------------------------------------------------------------------------\u001b[39m",
      "\u001b[31mModuleNotFoundError\u001b[39m                       Traceback (most recent call last)",
      "\u001b[36mCell\u001b[39m\u001b[36m \u001b[39m\u001b[32mIn[18]\u001b[39m\u001b[32m, line 3\u001b[39m\n\u001b[32m      1\u001b[39m get_ipython().system(\u001b[33m'\u001b[39m\u001b[33mpip list | grep pybasin\u001b[39m\u001b[33m'\u001b[39m)\n\u001b[32m----> \u001b[39m\u001b[32m3\u001b[39m \u001b[38;5;28;01mimport\u001b[39;00m\u001b[38;5;250m \u001b[39m\u001b[34;01mpyBasin\u001b[39;00m\n\u001b[32m      4\u001b[39m \u001b[38;5;28mprint\u001b[39m(pyBasin.\u001b[34m__file__\u001b[39m)\n",
      "\u001b[31mModuleNotFoundError\u001b[39m: No module named 'pyBasin'"
     ]
    }
   ],
   "source": [
    "!pip list | grep pybasin\n",
    "\n",
    "import pybasin\n",
    "print(pybasin.__file__)"
   ]
  },
  {
   "cell_type": "code",
   "execution_count": 13,
   "metadata": {},
   "outputs": [
    {
     "ename": "ModuleNotFoundError",
     "evalue": "No module named 'pybasin'",
     "output_type": "error",
     "traceback": [
      "\u001b[31m---------------------------------------------------------------------------\u001b[39m",
      "\u001b[31mModuleNotFoundError\u001b[39m                       Traceback (most recent call last)",
      "\u001b[36mCell\u001b[39m\u001b[36m \u001b[39m\u001b[32mIn[13]\u001b[39m\u001b[32m, line 3\u001b[39m\n\u001b[32m      1\u001b[39m \u001b[38;5;28;01mimport\u001b[39;00m\u001b[38;5;250m \u001b[39m\u001b[34;01mnumpy\u001b[39;00m\u001b[38;5;250m \u001b[39m\u001b[38;5;28;01mas\u001b[39;00m\u001b[38;5;250m \u001b[39m\u001b[34;01mnp\u001b[39;00m\n\u001b[32m----> \u001b[39m\u001b[32m3\u001b[39m \u001b[38;5;28;01mfrom\u001b[39;00m\u001b[38;5;250m \u001b[39m\u001b[34;01mpybasin\u001b[39;00m\u001b[34;01m.\u001b[39;00m\u001b[34;01mSampler\u001b[39;00m\u001b[38;5;250m \u001b[39m\u001b[38;5;28;01mimport\u001b[39;00m GridSampler\n\u001b[32m      4\u001b[39m \u001b[38;5;28;01mfrom\u001b[39;00m\u001b[38;5;250m \u001b[39m\u001b[34;01mpybasin\u001b[39;00m\u001b[34;01m.\u001b[39;00m\u001b[34;01mBasinStabilityEstimator\u001b[39;00m\u001b[38;5;250m \u001b[39m\u001b[38;5;28;01mimport\u001b[39;00m BasinStabilityEstimator\n\u001b[32m      6\u001b[39m \u001b[38;5;28;01mfrom\u001b[39;00m\u001b[38;5;250m \u001b[39m\u001b[34;01mcase_study_pendulum\u001b[39;00m\u001b[34;01m.\u001b[39;00m\u001b[34;01msetup_pendulum_system\u001b[39;00m\u001b[38;5;250m \u001b[39m\u001b[38;5;28;01mimport\u001b[39;00m setup_pendulum_system\n",
      "\u001b[31mModuleNotFoundError\u001b[39m: No module named 'pybasin'"
     ]
    }
   ],
   "source": [
    "import numpy as np\n",
    "\n",
    "from pybasin.Sampler import GridSampler\n",
    "from pybasin.BasinStabilityEstimator import BasinStabilityEstimator\n",
    "\n",
    "from case_study_pendulum.setup_pendulum_system import setup_pendulum_system\n",
    "import torch\n"
   ]
  },
  {
   "cell_type": "markdown",
   "metadata": {},
   "source": [
    "## main_pendulum_T_0_01"
   ]
  },
  {
   "cell_type": "code",
   "execution_count": null,
   "metadata": {},
   "outputs": [],
   "source": [
    "props = setup_pendulum_system()\n",
    "sampler = GridSampler(\n",
    "    min_limits=(-np.pi + np.arcsin(props[\"ode_system\"].params[\"T\"] / props[\"ode_system\"].params[\"K\"]), -10.0),\n",
    "    max_limits=(np.pi + np.arcsin(props[\"ode_system\"].params[\"T\"] / props[\"ode_system\"].params[\"K\"]), 10.0)\n",
    "    )\n"
   ]
  },
  {
   "cell_type": "code",
   "execution_count": null,
   "metadata": {},
   "outputs": [],
   "source": [
    "print(props[\"ode_system\"].params[\"T\"])\n",
    "print(props[\"ode_system\"].params[\"K\"])\n",
    "-np.pi + np.arcsin(props[\"ode_system\"].params[\"T\"] / props[\"ode_system\"].params[\"K\"])\n"
   ]
  },
  {
   "cell_type": "code",
   "execution_count": null,
   "metadata": {},
   "outputs": [],
   "source": [
    "\n",
    "props[\"ode_system\"].params[\"T\"] = 0.01\n",
    "props[\"N\"] = 10000\n",
    "\n",
    "props[\"sampler\"] = sampler\n",
    "\n",
    "# [-2.94023473279946,-10]\n",
    "# -2.940234732799462, -10\n",
    "grid = sampler.sample(props[\"N\"])\n",
    "print(grid)\n",
    "print(len(grid))\n"
   ]
  },
  {
   "cell_type": "code",
   "execution_count": null,
   "metadata": {},
   "outputs": [],
   "source": [
    "\n",
    "bse = BasinStabilityEstimator(\n",
    "    name=\"main_pendulum_T_0_01\",\n",
    "    N=props[\"N\"],\n",
    "    ode_system=props[\"ode_system\"],\n",
    "    sampler=props[\"sampler\"],\n",
    "    solver=props[\"solver\"],\n",
    "    feature_extractor=props[\"feature_extractor\"],\n",
    "    cluster_classifier=props[\"cluster_classifier\"],\n",
    "    save_to=\"main_pendulum_T_0_01\"\n",
    ")"
   ]
  }
 ],
 "metadata": {
  "kernelspec": {
   "display_name": "thesis-8NJDacTB",
   "language": "python",
   "name": "python3"
  },
  "language_info": {
   "codemirror_mode": {
    "name": "ipython",
    "version": 3
   },
   "file_extension": ".py",
   "mimetype": "text/x-python",
   "name": "python",
   "nbconvert_exporter": "python",
   "pygments_lexer": "ipython3",
   "version": "3.12.7"
  }
 },
 "nbformat": 4,
 "nbformat_minor": 2
}
