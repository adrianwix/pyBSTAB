{
 "cells": [
  {
   "cell_type": "markdown",
   "metadata": {},
   "source": [
    "## main_pendulum_T_0_01"
   ]
  },
  {
   "cell_type": "code",
   "execution_count": null,
   "metadata": {},
   "outputs": [
    {
     "name": "stdout",
     "output_type": "stream",
     "text": [
      "/Users/adrian/Documents/code/bSTAB/thesis\n",
      "/Users/adrian/.local/share/virtualenvs/thesis-8NJDacTB/bin/python\n"
     ]
    }
   ],
   "source": [
    "import os, sys\n",
    "print(os.getcwd())\n",
    "# Add the current directory to sys.path\n",
    "sys.path.append(os.getcwd() + '/case_study_pendulum')\n",
    "print(sys.executable)\n",
    "\n",
    "import numpy as np\n",
    "\n",
    "from pybasin.Sampler import GridSampler\n",
    "from pybasin.BasinStabilityEstimator import BasinStabilityEstimator\n",
    "\n",
    "from case_study_pendulum.setup_pendulum_system import setup_pendulum_system\n",
    "\n"
   ]
  },
  {
   "cell_type": "code",
   "execution_count": 7,
   "metadata": {},
   "outputs": [],
   "source": [
    "props = setup_pendulum_system()\n",
    "sampler = GridSampler(\n",
    "    min_limits=(-np.pi + np.arcsin(props[\"ode_system\"].params[\"T\"] / props[\"ode_system\"].params[\"K\"]), -10.0),\n",
    "    max_limits=(np.pi + np.arcsin(props[\"ode_system\"].params[\"T\"] / props[\"ode_system\"].params[\"K\"]), 10.0)\n",
    "    )\n"
   ]
  },
  {
   "cell_type": "code",
   "execution_count": 8,
   "metadata": {},
   "outputs": [
    {
     "name": "stdout",
     "output_type": "stream",
     "text": [
      "0.5\n",
      "1.0\n"
     ]
    },
    {
     "data": {
      "text/plain": [
       "np.float64(-2.6179938779914944)"
      ]
     },
     "execution_count": 8,
     "metadata": {},
     "output_type": "execute_result"
    }
   ],
   "source": [
    "print(props[\"ode_system\"].params[\"T\"])\n",
    "print(props[\"ode_system\"].params[\"K\"])\n",
    "-np.pi + np.arcsin(props[\"ode_system\"].params[\"T\"] / props[\"ode_system\"].params[\"K\"])\n"
   ]
  },
  {
   "cell_type": "code",
   "execution_count": 9,
   "metadata": {},
   "outputs": [
    {
     "name": "stdout",
     "output_type": "stream",
     "text": [
      "Created grid with 10000 points (100 points per dimension)\n",
      "tensor([[ -2.6180, -10.0000],\n",
      "        [ -2.5545, -10.0000],\n",
      "        [ -2.4911, -10.0000],\n",
      "        ...,\n",
      "        [  3.5383,  10.0000],\n",
      "        [  3.6017,  10.0000],\n",
      "        [  3.6652,  10.0000]])\n",
      "10000\n"
     ]
    }
   ],
   "source": [
    "\n",
    "props[\"ode_system\"].params[\"T\"] = 0.01\n",
    "props[\"N\"] = 10000\n",
    "\n",
    "props[\"sampler\"] = sampler\n",
    "\n",
    "# [-2.94023473279946,-10]\n",
    "# -2.940234732799462, -10\n",
    "grid = sampler.sample(props[\"N\"])\n",
    "print(grid)\n",
    "print(len(grid))\n"
   ]
  },
  {
   "cell_type": "code",
   "execution_count": null,
   "metadata": {},
   "outputs": [],
   "source": [
    "bse = BasinStabilityEstimator(\n",
    "    name=\"main_pendulum_T_0_01\",\n",
    "    N=props[\"N\"],\n",
    "    ode_system=props[\"ode_system\"],\n",
    "    sampler=props[\"sampler\"],\n",
    "    solver=props[\"solver\"],\n",
    "    feature_extractor=props[\"feature_extractor\"],\n",
    "    cluster_classifier=props[\"cluster_classifier\"],\n",
    "    save_to=\"main_pendulum_T_0_01\"\n",
    ")"
   ]
  },
  {
   "cell_type": "code",
   "execution_count": 11,
   "metadata": {},
   "outputs": [
    {
     "name": "stdout",
     "output_type": "stream",
     "text": [
      "\n",
      "Starting Basin Stability Estimation...\n",
      "\n",
      "1. Generating initial conditions...\n",
      "Created grid with 10000 points (100 points per dimension)\n",
      "   Generated 10000 initial conditions\n",
      "\n",
      "2. Integrating ODE system...\n",
      "[TorchDiffEqSolver] Cache miss. Integrating...\n",
      "[TorchDiffEqSolver] Integration result cached to file: /Users/adrian/Documents/code/bSTAB/thesis/case_study_pendulum/cache/db3bbe6049146bf2f4b5440418718f4b.pkl\n",
      "   Integration complete - trajectory shape: torch.Size([25001, 10000, 2])\n",
      "\n",
      "3. Creating Solution object...\n",
      "\n",
      "4. Extracting features...\n",
      "   Features shape: torch.Size([10000, 2])\n",
      "\n",
      "5. Performing classification...\n",
      "   Fitting classifier with template data...\n",
      "classifier.fit - ode_system.params:  {'alpha': 0.1, 'T': 0.5, 'K': 1.0}\n",
      "classifier.fit - self.initial_conditions:  tensor([[0.5000, 0.0000],\n",
      "        [2.7000, 0.0000]])\n",
      "classifier.fit - self.labels:  ['FP', 'LC']\n",
      "[TorchDiffEqSolver] Loading integration result from persistent cache.\n",
      "[[1. 0.]\n",
      " [0. 1.]] ['FP', 'LC']\n",
      "   Classification complete\n",
      "\n",
      "6. Computing basin stability values...\n",
      "   FP: 1.000\n",
      "\n",
      "Basin Stability Estimation Complete!\n"
     ]
    },
    {
     "data": {
      "text/plain": [
       "{'FP': np.float64(1.0)}"
      ]
     },
     "execution_count": 11,
     "metadata": {},
     "output_type": "execute_result"
    }
   ],
   "source": [
    "bse.estimate_bs()"
   ]
  },
  {
   "cell_type": "code",
   "execution_count": 16,
   "metadata": {},
   "outputs": [],
   "source": [
    "solution = bse.solution"
   ]
  },
  {
   "cell_type": "code",
   "execution_count": 17,
   "metadata": {},
   "outputs": [
    {
     "name": "stdout",
     "output_type": "stream",
     "text": [
      "tensor([[90.2039, 10.0000],\n",
      "        [90.1906, 10.0000],\n",
      "        [90.1770, 10.0000],\n",
      "        ...,\n",
      "        [96.3943, 10.0000],\n",
      "        [96.3980, 10.0000],\n",
      "        [96.4013, 10.0000]])\n",
      "['FP' 'FP' 'FP' ... 'FP' 'FP' 'FP']\n"
     ]
    }
   ],
   "source": [
    "print(solution.bifurcation_amplitudes)\n",
    "print(solution.labels)"
   ]
  },
  {
   "cell_type": "code",
   "execution_count": 23,
   "metadata": {},
   "outputs": [
    {
     "name": "stdout",
     "output_type": "stream",
     "text": [
      "                       Grid Sample Labels     Bifurcation Amplitudes\n",
      "0     (-2.6179938316345215, -10.0)     FP  (90.20388793945312, 10.0)\n",
      "1     (-2.5545272827148438, -10.0)     FP  (90.19064331054688, 10.0)\n",
      "2      (-2.491060733795166, -10.0)     FP   (90.1769790649414, 10.0)\n",
      "3     (-2.4275941848754883, -10.0)     FP  (90.16317749023438, 10.0)\n",
      "4     (-2.3641278743743896, -10.0)     FP  (90.14917755126953, 10.0)\n",
      "...                            ...    ...                        ...\n",
      "9995     (3.411325454711914, 10.0)     FP   (96.3858642578125, 10.0)\n",
      "9996    (3.4747917652130127, 10.0)     FP   (96.3902587890625, 10.0)\n",
      "9997    (3.5382583141326904, 10.0)     FP    (96.394287109375, 10.0)\n",
      "9998     (3.601724863052368, 10.0)     FP  (96.39798736572266, 10.0)\n",
      "9999     (3.665191411972046, 10.0)     FP   (96.4013442993164, 10.0)\n",
      "\n",
      "[10000 rows x 3 columns]\n"
     ]
    }
   ],
   "source": [
    "import pandas as pd\n",
    "\n",
    "# Create a DataFrame with the specified columns\n",
    "df = pd.DataFrame({\n",
    "    'Grid Sample': [(x, y) for x, y in grid.tolist()],\n",
    "    'Labels': solution.labels,\n",
    "    'Bifurcation Amplitudes': [(theta, theta_dot) for theta, theta_dot in solution.bifurcation_amplitudes.tolist()]\n",
    "})\n",
    "\n",
    "print(df)\n",
    "\n",
    "df.to_excel(\"main_pendulum_T_0_01.xlsx\")"
   ]
  }
 ],
 "metadata": {
  "kernelspec": {
   "display_name": "Python 3 (ipykernel)",
   "language": "python",
   "name": "python3"
  },
  "language_info": {
   "codemirror_mode": {
    "name": "ipython",
    "version": 3
   },
   "file_extension": ".py",
   "mimetype": "text/x-python",
   "name": "python",
   "nbconvert_exporter": "python",
   "pygments_lexer": "ipython3",
   "version": "3.12.7"
  }
 },
 "nbformat": 4,
 "nbformat_minor": 2
}
